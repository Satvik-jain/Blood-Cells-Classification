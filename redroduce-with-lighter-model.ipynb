{
 "cells": [
  {
   "cell_type": "code",
   "execution_count": 1,
   "id": "5fa84cd1",
   "metadata": {
    "_cell_guid": "b1076dfc-b9ad-4769-8c92-a6c4dae69d19",
    "_uuid": "8f2839f25d086af736a60e9eeb907d3b93b6e0e5",
    "execution": {
     "iopub.execute_input": "2024-09-27T00:25:56.084344Z",
     "iopub.status.busy": "2024-09-27T00:25:56.083769Z",
     "iopub.status.idle": "2024-09-27T00:26:13.775727Z",
     "shell.execute_reply": "2024-09-27T00:26:13.773887Z"
    },
    "papermill": {
     "duration": 17.701774,
     "end_time": "2024-09-27T00:26:13.778622",
     "exception": false,
     "start_time": "2024-09-27T00:25:56.076848",
     "status": "completed"
    },
    "tags": []
   },
   "outputs": [],
   "source": [
    "import tensorflow as tf\n",
    "from tensorflow.keras.applications import ResNet50\n",
    "from tensorflow.keras.preprocessing.image import ImageDataGenerator\n",
    "from tensorflow.keras.layers import Dense, GlobalAveragePooling2D, Flatten\n",
    "from tensorflow.keras.models import Model\n",
    "from tensorflow.keras.optimizers import Adam\n",
    "from sklearn.model_selection import train_test_split, KFold\n",
    "from sklearn.svm import SVC\n",
    "from sklearn.metrics import accuracy_score, precision_score, recall_score, f1_score\n",
    "from sklearn.preprocessing import StandardScaler\n",
    "import numpy as np\n",
    "import os\n",
    "from tensorflow.keras.callbacks import LearningRateScheduler, ModelCheckpoint\n",
    "import tensorflow as tf\n",
    "from tensorflow.keras.applications import ResNet50\n",
    "from tensorflow.keras.preprocessing.image import ImageDataGenerator\n",
    "from tensorflow.keras.applications.resnet50 import preprocess_input\n",
    "from sklearn.model_selection import train_test_split, GridSearchCV\n",
    "from sklearn.metrics import accuracy_score"
   ]
  },
  {
   "cell_type": "code",
   "execution_count": 2,
   "id": "a15dc9aa",
   "metadata": {
    "execution": {
     "iopub.execute_input": "2024-09-27T00:26:13.790701Z",
     "iopub.status.busy": "2024-09-27T00:26:13.789921Z",
     "iopub.status.idle": "2024-09-27T00:26:13.984919Z",
     "shell.execute_reply": "2024-09-27T00:26:13.983691Z"
    },
    "papermill": {
     "duration": 0.204207,
     "end_time": "2024-09-27T00:26:13.987755",
     "exception": false,
     "start_time": "2024-09-27T00:26:13.783548",
     "status": "completed"
    },
    "tags": []
   },
   "outputs": [],
   "source": [
    "# from cuml.neighbors import KNeighborsClassifier\n",
    "# from cuml.ensemble import RandomForestClassifier\n",
    "# from cuml.svm import SVC\n",
    "from sklearn.neighbors import KNeighborsClassifier\n",
    "from sklearn.ensemble import RandomForestClassifier\n",
    "from sklearn.svm import SVC"
   ]
  },
  {
   "cell_type": "code",
   "execution_count": 3,
   "id": "43ffbedc",
   "metadata": {
    "execution": {
     "iopub.execute_input": "2024-09-27T00:26:13.998596Z",
     "iopub.status.busy": "2024-09-27T00:26:13.998163Z",
     "iopub.status.idle": "2024-09-27T00:29:53.284434Z",
     "shell.execute_reply": "2024-09-27T00:29:53.283078Z"
    },
    "papermill": {
     "duration": 219.294916,
     "end_time": "2024-09-27T00:29:53.287140",
     "exception": false,
     "start_time": "2024-09-27T00:26:13.992224",
     "status": "completed"
    },
    "tags": []
   },
   "outputs": [
    {
     "name": "stdout",
     "output_type": "stream",
     "text": [
      "Data successfully split into train 1.0%, val, and test (4000 images) folders with seed 42\n",
      "Data successfully split into train 10.0%, val, and test (4000 images) folders with seed 42\n",
      "Data successfully split into train 50.0%, val, and test (4000 images) folders with seed 42\n",
      "Data successfully split into train 70.0%, val, and test (4000 images) folders with seed 42\n"
     ]
    }
   ],
   "source": [
    "import os\n",
    "import shutil\n",
    "import random\n",
    "from sklearn.model_selection import train_test_split\n",
    "\n",
    "\n",
    "random_seed = 42\n",
    "random.seed(random_seed)\n",
    "\n",
    "\n",
    "source_folder = '/kaggle/input/microscopic-peripheral-blood-cell-images/PBC_dataset_normal_DIB'\n",
    "for i in [0.01, 0.1, 0.5, 0.7]:\n",
    "    train_ratio = i\n",
    "    test_size = 4000   \n",
    "    destination_folder = f'data {i}'\n",
    "    os.makedirs(os.path.join(destination_folder, 'train'), exist_ok=True)\n",
    "    os.makedirs(os.path.join(destination_folder, 'val'), exist_ok=True)\n",
    "    os.makedirs(os.path.join(destination_folder, 'test'), exist_ok=True)\n",
    "\n",
    "    total_images = []\n",
    "    class_images = {}\n",
    "\n",
    "    for class_name in os.listdir(source_folder):\n",
    "        class_folder = os.path.join(source_folder, class_name)\n",
    "\n",
    "        if os.path.isdir(class_folder):\n",
    "            images = os.listdir(class_folder)\n",
    "            total_images.extend([(class_name, img) for img in images])\n",
    "            class_images[class_name] = images\n",
    "\n",
    "    random.shuffle(total_images)\n",
    "\n",
    "    train_count = max(1, int(len(total_images) * train_ratio))\n",
    "    train_images = total_images[:train_count]\n",
    "    remaining_images = total_images[train_count:]\n",
    "\n",
    "    test_images = remaining_images[:test_size]\n",
    "    val_images = remaining_images[test_size:]\n",
    "\n",
    "    train_class_images = {class_name: [] for class_name in class_images.keys()}\n",
    "    test_class_images = {class_name: [] for class_name in class_images.keys()}\n",
    "    val_class_images = {class_name: [] for class_name in class_images.keys()}\n",
    "\n",
    "    for class_name, img in train_images:\n",
    "        train_class_images[class_name].append(img)\n",
    "\n",
    "    for class_name, img in test_images:\n",
    "        test_class_images[class_name].append(img)\n",
    "\n",
    "    for class_name, img in val_images:\n",
    "        val_class_images[class_name].append(img)\n",
    "\n",
    "    for class_name, images in train_class_images.items():\n",
    "        class_folder = os.path.join(source_folder, class_name)\n",
    "        train_dest = os.path.join(destination_folder, 'train', class_name)\n",
    "        os.makedirs(train_dest, exist_ok=True)\n",
    "        for img in images:\n",
    "            shutil.copy(os.path.join(class_folder, img), os.path.join(train_dest, img))\n",
    "\n",
    "    for class_name, images in val_class_images.items():\n",
    "        class_folder = os.path.join(source_folder, class_name)\n",
    "        val_dest = os.path.join(destination_folder, 'val', class_name)\n",
    "        os.makedirs(val_dest, exist_ok=True)\n",
    "        for img in images:\n",
    "            shutil.copy(os.path.join(class_folder, img), os.path.join(val_dest, img))\n",
    "\n",
    "    for class_name, images in test_class_images.items():\n",
    "        class_folder = os.path.join(source_folder, class_name)\n",
    "        test_dest = os.path.join(destination_folder, 'test', class_name)\n",
    "        os.makedirs(test_dest, exist_ok=True)\n",
    "        for img in images:\n",
    "            shutil.copy(os.path.join(class_folder, img), os.path.join(test_dest, img))\n",
    "\n",
    "    print(f\"Data successfully split into train {i*100}%, val, and test (4000 images) folders with seed\", random_seed)"
   ]
  },
  {
   "cell_type": "code",
   "execution_count": 4,
   "id": "13471825",
   "metadata": {
    "execution": {
     "iopub.execute_input": "2024-09-27T00:29:53.298453Z",
     "iopub.status.busy": "2024-09-27T00:29:53.297990Z",
     "iopub.status.idle": "2024-09-27T00:29:53.378176Z",
     "shell.execute_reply": "2024-09-27T00:29:53.376900Z"
    },
    "papermill": {
     "duration": 0.088946,
     "end_time": "2024-09-27T00:29:53.380916",
     "exception": false,
     "start_time": "2024-09-27T00:29:53.291970",
     "status": "completed"
    },
    "tags": []
   },
   "outputs": [
    {
     "name": "stdout",
     "output_type": "stream",
     "text": [
      "Removing invalid file: .DS_169665.jpg\n",
      "Removing invalid file: .DS_169665.jpg\n",
      "Removing invalid file: .DS_169665.jpg\n",
      "Removing invalid file: .DS_169665.jpg\n"
     ]
    }
   ],
   "source": [
    "import os\n",
    "\n",
    "def filter_invalid_files(directory):\n",
    "    for subdir, dirs, files in os.walk(directory):\n",
    "        for file in files:\n",
    "            if file.startswith('.'):\n",
    "                print(f\"Removing invalid file: {file}\")\n",
    "                os.remove(os.path.join(subdir, file))\n",
    "\n",
    "for i in [0.01, 0.1, 0.5, 0.7]:\n",
    "    filter_invalid_files(f'/kaggle/working/data {i}/train')\n",
    "    filter_invalid_files(f'/kaggle/working/data {i}/test')\n",
    "    filter_invalid_files(f'/kaggle/working/data {i}/val')"
   ]
  },
  {
   "cell_type": "code",
   "execution_count": 5,
   "id": "f6f7677b",
   "metadata": {
    "execution": {
     "iopub.execute_input": "2024-09-27T00:29:53.392951Z",
     "iopub.status.busy": "2024-09-27T00:29:53.392520Z",
     "iopub.status.idle": "2024-09-27T00:29:55.340500Z",
     "shell.execute_reply": "2024-09-27T00:29:55.338911Z"
    },
    "papermill": {
     "duration": 1.957065,
     "end_time": "2024-09-27T00:29:55.343250",
     "exception": false,
     "start_time": "2024-09-27T00:29:53.386185",
     "status": "completed"
    },
    "tags": []
   },
   "outputs": [
    {
     "name": "stdout",
     "output_type": "stream",
     "text": [
      "Found 170 images belonging to 8 classes.\n",
      "Found 12922 images belonging to 8 classes.\n",
      "Found 4000 images belonging to 8 classes.\n",
      "Found 1709 images belonging to 8 classes.\n",
      "Found 11384 images belonging to 8 classes.\n",
      "Found 3999 images belonging to 8 classes.\n",
      "Found 8546 images belonging to 8 classes.\n",
      "Found 4546 images belonging to 8 classes.\n",
      "Found 4000 images belonging to 8 classes.\n",
      "Found 11965 images belonging to 8 classes.\n",
      "Found 1128 images belonging to 8 classes.\n",
      "Found 3999 images belonging to 8 classes.\n"
     ]
    }
   ],
   "source": [
    "generators  = {}\n",
    "keys = ['1%', '10%', '50%', '70%']\n",
    "\n",
    "for index, i in enumerate([0.01, 0.1, 0.5, 0.7]):\n",
    "    train_dir = f'/kaggle/working/data {i}/train'\n",
    "    val_dir = f'/kaggle/working/data {i}/val'\n",
    "    test_dir = f'/kaggle/working/data {i}/test'\n",
    "\n",
    "    img_height, img_width = 224, 224\n",
    "    batch_size = 32\n",
    "\n",
    "\n",
    "    train_datagen = ImageDataGenerator(\n",
    "        rescale=1./255,\n",
    "        zoom_range=0.2,\n",
    "        horizontal_flip=True\n",
    "    )\n",
    "\n",
    "    val_datagen = ImageDataGenerator(rescale=1./255)\n",
    "    test_datagen = ImageDataGenerator(rescale=1./255)\n",
    "\n",
    "    train_generator = train_datagen.flow_from_directory(\n",
    "        train_dir,\n",
    "        target_size=(img_height, img_width),\n",
    "        batch_size=batch_size,\n",
    "        class_mode='categorical'\n",
    "    )\n",
    "\n",
    "    val_generator = val_datagen.flow_from_directory(\n",
    "        val_dir,\n",
    "        target_size=(img_height, img_width),\n",
    "        batch_size=batch_size,\n",
    "        class_mode='categorical'\n",
    "    )\n",
    "\n",
    "    test_generator = test_datagen.flow_from_directory(\n",
    "        test_dir,\n",
    "        target_size=(img_height, img_width),\n",
    "        batch_size=batch_size,\n",
    "        class_mode='categorical'\n",
    "    )\n",
    "    generators[keys[index]] = [train_generator, val_generator, test_generator]"
   ]
  },
  {
   "cell_type": "code",
   "execution_count": 6,
   "id": "65a226b6",
   "metadata": {
    "execution": {
     "iopub.execute_input": "2024-09-27T00:29:55.356403Z",
     "iopub.status.busy": "2024-09-27T00:29:55.355961Z",
     "iopub.status.idle": "2024-09-27T00:29:55.365526Z",
     "shell.execute_reply": "2024-09-27T00:29:55.363943Z"
    },
    "papermill": {
     "duration": 0.019153,
     "end_time": "2024-09-27T00:29:55.368089",
     "exception": false,
     "start_time": "2024-09-27T00:29:55.348936",
     "status": "completed"
    },
    "tags": []
   },
   "outputs": [
    {
     "data": {
      "text/plain": [
       "{'1%': [<keras.src.legacy.preprocessing.image.DirectoryIterator at 0x79eeb0555810>,\n",
       "  <keras.src.legacy.preprocessing.image.DirectoryIterator at 0x79eec360a3e0>,\n",
       "  <keras.src.legacy.preprocessing.image.DirectoryIterator at 0x79eeb12d2a10>],\n",
       " '10%': [<keras.src.legacy.preprocessing.image.DirectoryIterator at 0x79eeb05558a0>,\n",
       "  <keras.src.legacy.preprocessing.image.DirectoryIterator at 0x79eeb0557c40>,\n",
       "  <keras.src.legacy.preprocessing.image.DirectoryIterator at 0x79eeb0556fe0>],\n",
       " '50%': [<keras.src.legacy.preprocessing.image.DirectoryIterator at 0x79eeb0557370>,\n",
       "  <keras.src.legacy.preprocessing.image.DirectoryIterator at 0x79eeb0557520>,\n",
       "  <keras.src.legacy.preprocessing.image.DirectoryIterator at 0x79eeb0556890>],\n",
       " '70%': [<keras.src.legacy.preprocessing.image.DirectoryIterator at 0x79eeb05544f0>,\n",
       "  <keras.src.legacy.preprocessing.image.DirectoryIterator at 0x79eeb0557a00>,\n",
       "  <keras.src.legacy.preprocessing.image.DirectoryIterator at 0x79eeb0554d60>]}"
      ]
     },
     "execution_count": 6,
     "metadata": {},
     "output_type": "execute_result"
    }
   ],
   "source": [
    "generators"
   ]
  },
  {
   "cell_type": "code",
   "execution_count": 7,
   "id": "dc9e5f5d",
   "metadata": {
    "execution": {
     "iopub.execute_input": "2024-09-27T00:29:55.382079Z",
     "iopub.status.busy": "2024-09-27T00:29:55.381637Z",
     "iopub.status.idle": "2024-09-27T00:57:36.969770Z",
     "shell.execute_reply": "2024-09-27T00:57:36.967505Z"
    },
    "papermill": {
     "duration": 1661.599144,
     "end_time": "2024-09-27T00:57:36.973166",
     "exception": false,
     "start_time": "2024-09-27T00:29:55.374022",
     "status": "completed"
    },
    "tags": []
   },
   "outputs": [
    {
     "name": "stdout",
     "output_type": "stream",
     "text": [
      "Downloading data from https://storage.googleapis.com/tensorflow/keras-applications/mobilenet_v2/mobilenet_v2_weights_tf_dim_ordering_tf_kernels_1.0_224_no_top.h5\n",
      "\u001b[1m9406464/9406464\u001b[0m \u001b[32m━━━━━━━━━━━━━━━━━━━━\u001b[0m\u001b[37m\u001b[0m \u001b[1m0s\u001b[0m 0us/step\n"
     ]
    },
    {
     "name": "stderr",
     "output_type": "stream",
     "text": [
      "/opt/conda/lib/python3.10/site-packages/keras/src/trainers/data_adapters/py_dataset_adapter.py:121: UserWarning: Your `PyDataset` class should call `super().__init__(**kwargs)` in its constructor. `**kwargs` can include `workers`, `use_multiprocessing`, `max_queue_size`. Do not pass these arguments to `fit()`, as they will be ignored.\n",
      "  self._warn_if_super_not_called()\n"
     ]
    },
    {
     "name": "stdout",
     "output_type": "stream",
     "text": [
      "\u001b[1m6/6\u001b[0m \u001b[32m━━━━━━━━━━━━━━━━━━━━\u001b[0m\u001b[37m\u001b[0m \u001b[1m8s\u001b[0m 956ms/step\n",
      "\u001b[1m404/404\u001b[0m \u001b[32m━━━━━━━━━━━━━━━━━━━━\u001b[0m\u001b[37m\u001b[0m \u001b[1m282s\u001b[0m 698ms/step\n",
      "\u001b[1m125/125\u001b[0m \u001b[32m━━━━━━━━━━━━━━━━━━━━\u001b[0m\u001b[37m\u001b[0m \u001b[1m110s\u001b[0m 880ms/step\n",
      "\u001b[1m54/54\u001b[0m \u001b[32m━━━━━━━━━━━━━━━━━━━━\u001b[0m\u001b[37m\u001b[0m \u001b[1m44s\u001b[0m 806ms/step\n",
      "\u001b[1m356/356\u001b[0m \u001b[32m━━━━━━━━━━━━━━━━━━━━\u001b[0m\u001b[37m\u001b[0m \u001b[1m253s\u001b[0m 710ms/step\n",
      "\u001b[1m125/125\u001b[0m \u001b[32m━━━━━━━━━━━━━━━━━━━━\u001b[0m\u001b[37m\u001b[0m \u001b[1m83s\u001b[0m 664ms/step\n",
      "\u001b[1m268/268\u001b[0m \u001b[32m━━━━━━━━━━━━━━━━━━━━\u001b[0m\u001b[37m\u001b[0m \u001b[1m234s\u001b[0m 872ms/step\n",
      "\u001b[1m143/143\u001b[0m \u001b[32m━━━━━━━━━━━━━━━━━━━━\u001b[0m\u001b[37m\u001b[0m \u001b[1m99s\u001b[0m 692ms/step\n",
      "\u001b[1m125/125\u001b[0m \u001b[32m━━━━━━━━━━━━━━━━━━━━\u001b[0m\u001b[37m\u001b[0m \u001b[1m86s\u001b[0m 691ms/step\n",
      "\u001b[1m374/374\u001b[0m \u001b[32m━━━━━━━━━━━━━━━━━━━━\u001b[0m\u001b[37m\u001b[0m \u001b[1m304s\u001b[0m 813ms/step\n",
      "\u001b[1m36/36\u001b[0m \u001b[32m━━━━━━━━━━━━━━━━━━━━\u001b[0m\u001b[37m\u001b[0m \u001b[1m23s\u001b[0m 630ms/step\n",
      "\u001b[1m125/125\u001b[0m \u001b[32m━━━━━━━━━━━━━━━━━━━━\u001b[0m\u001b[37m\u001b[0m \u001b[1m98s\u001b[0m 786ms/step\n"
     ]
    }
   ],
   "source": [
    "from tensorflow.keras.applications import MobileNetV2\n",
    "\n",
    "base_model_mobilenet = MobileNetV2(weights='imagenet', include_top=False, input_shape=(224, 224, 3))\n",
    "\n",
    "for layer in base_model_mobilenet.layers:\n",
    "    layer.trainable = True\n",
    "    \n",
    "for layer in base_model_mobilenet.layers[0:-11]:\n",
    "    layer.trainable = False\n",
    "\n",
    "def extract_features(generator, base_model):\n",
    "    features = base_model.predict(generator)\n",
    "    labels = generator.classes\n",
    "    return features, labels\n",
    "\n",
    "features = {}\n",
    "labels = {}\n",
    "\n",
    "for i in keys:\n",
    "    train_features_mobilenet, train_labels = extract_features(generators[i][0], base_model_mobilenet)\n",
    "    val_features_mobilenet, val_labels = extract_features(generators[i][1], base_model_mobilenet)\n",
    "    test_features_mobilenet, test_labels = extract_features(generators[i][2], base_model_mobilenet)\n",
    "\n",
    "    train_features_mobilenet = train_features_mobilenet.reshape(train_features_mobilenet.shape[0], -1)\n",
    "    val_features_mobilenet = val_features_mobilenet.reshape(val_features_mobilenet.shape[0], -1)\n",
    "    test_features_mobilenet = test_features_mobilenet.reshape(test_features_mobilenet.shape[0], -1)\n",
    "    \n",
    "    features[i] = [train_features_mobilenet, val_features_mobilenet,test_features_mobilenet]\n",
    "    labels[i] = [train_labels, val_labels,test_labels]"
   ]
  },
  {
   "cell_type": "code",
   "execution_count": 8,
   "id": "5495d778",
   "metadata": {
    "execution": {
     "iopub.execute_input": "2024-09-27T00:57:37.289137Z",
     "iopub.status.busy": "2024-09-27T00:57:37.288495Z",
     "iopub.status.idle": "2024-09-27T00:57:37.297233Z",
     "shell.execute_reply": "2024-09-27T00:57:37.296066Z"
    },
    "papermill": {
     "duration": 0.180021,
     "end_time": "2024-09-27T00:57:37.300594",
     "exception": false,
     "start_time": "2024-09-27T00:57:37.120573",
     "status": "completed"
    },
    "tags": []
   },
   "outputs": [
    {
     "name": "stdout",
     "output_type": "stream",
     "text": [
      "1%  \t: \t (170, 62720)\n",
      "10%  \t: \t (1709, 62720)\n",
      "50%  \t: \t (8546, 62720)\n",
      "70%  \t: \t (11965, 62720)\n"
     ]
    }
   ],
   "source": [
    "for i in keys:\n",
    "    print(i ,\" \\t: \\t\", features[i][0].shape)"
   ]
  },
  {
   "cell_type": "code",
   "execution_count": 9,
   "id": "09813d94",
   "metadata": {
    "execution": {
     "iopub.execute_input": "2024-09-27T00:57:37.620146Z",
     "iopub.status.busy": "2024-09-27T00:57:37.619625Z",
     "iopub.status.idle": "2024-09-27T01:51:39.417910Z",
     "shell.execute_reply": "2024-09-27T01:51:39.413696Z"
    },
    "papermill": {
     "duration": 3242.107894,
     "end_time": "2024-09-27T01:51:39.568980",
     "exception": false,
     "start_time": "2024-09-27T00:57:37.461086",
     "status": "completed"
    },
    "tags": []
   },
   "outputs": [
    {
     "name": "stdout",
     "output_type": "stream",
     "text": [
      "rf done\n",
      "knn done\n",
      "Model fit successful on 1% data\n",
      "rf done\n",
      "knn done\n",
      "Model fit successful on 10% data\n",
      "rf done\n",
      "knn done\n",
      "Model fit successful on 50% data\n"
     ]
    }
   ],
   "source": [
    "models = {}\n",
    "keys = ['1%', '10%', '50%']\n",
    "for i in keys:\n",
    "    knn = KNeighborsClassifier()\n",
    "    rf = RandomForestClassifier(random_state=42)\n",
    "    # svm = SVC()\n",
    "    # xgb = XGBClassifier(use_label_encoder=False, eval_metric='mlogloss')\n",
    "\n",
    "    # Set up Grid Search for hyperparameter tuning\n",
    "    param_grid_knn = {'n_neighbors': [3, 5, 7]}\n",
    "    param_grid_rf = {'n_estimators': [100, 200], 'max_depth': [10, 20]}\n",
    "    # param_grid_svm = {'C': [0.1, 1, 10], 'kernel': ['linear', 'rbf']}\n",
    "    # param_grid_xgb = {'n_estimators': [100, 200], 'learning_rate': [0.01, 0.1], 'max_depth': [3, 5]}\n",
    "\n",
    "    grid_knn = GridSearchCV(knn, param_grid_knn, cv=5)\n",
    "    grid_rf = GridSearchCV(rf, param_grid_rf, cv=5)\n",
    "    # grid_svm = GridSearchCV(svm, param_grid_svm, cv=5)\n",
    "    # grid_xgb = GridSearchCV(xgb, param_grid_xgb, cv=5)\n",
    "    grid_rf.fit(features[i][0], labels[i][0])\n",
    "    print(\"rf done\")\n",
    "    grid_knn.fit(features[i][0], labels[i][0])\n",
    "    print(\"knn done\")\n",
    "#     grid_svm.fit(features[i][0], labels[i][0])\n",
    "#     print(\"svm done\")\n",
    "    print(f\"Model fit successful on {i} data\")\n",
    "#     models[i] = [grid_rf, grid_knn, grid_svm]\n",
    "    models[i] = [grid_rf, grid_knn]"
   ]
  },
  {
   "cell_type": "code",
   "execution_count": 10,
   "id": "7c8e14df",
   "metadata": {
    "execution": {
     "iopub.execute_input": "2024-09-27T01:51:39.873142Z",
     "iopub.status.busy": "2024-09-27T01:51:39.872201Z",
     "iopub.status.idle": "2024-09-27T01:53:15.336774Z",
     "shell.execute_reply": "2024-09-27T01:53:15.335425Z"
    },
    "papermill": {
     "duration": 95.768795,
     "end_time": "2024-09-27T01:53:15.488604",
     "exception": false,
     "start_time": "2024-09-27T01:51:39.719809",
     "status": "completed"
    },
    "tags": []
   },
   "outputs": [
    {
     "name": "stdout",
     "output_type": "stream",
     "text": [
      "done in 1%\n",
      "done in 10%\n",
      "done in 50%\n"
     ]
    }
   ],
   "source": [
    "# Evaluate on validation set\n",
    "preds = {}\n",
    "for i in keys:\n",
    "    rf_test_pred_mobilenet = models[i][0].predict(features[i][2])\n",
    "    knn_test_pred_mobilenet = models[i][1].predict(features[i][2])\n",
    "#     svm_val_pred_mobilenet = grid_svm.predict(val_features_mobilenet)\n",
    "#     preds[i] = [rf_val_pred_mobilenet, knn_val_pred_mobilenet, svm_val_pred_mobilenet]\n",
    "    print(f\"done in {i}\")\n",
    "    preds[i] = [rf_test_pred_mobilenet, knn_test_pred_mobilenet]"
   ]
  },
  {
   "cell_type": "code",
   "execution_count": 11,
   "id": "62d7fd52",
   "metadata": {
    "execution": {
     "iopub.execute_input": "2024-09-27T01:53:15.793098Z",
     "iopub.status.busy": "2024-09-27T01:53:15.792100Z",
     "iopub.status.idle": "2024-09-27T01:53:15.807951Z",
     "shell.execute_reply": "2024-09-27T01:53:15.806746Z"
    },
    "papermill": {
     "duration": 0.172697,
     "end_time": "2024-09-27T01:53:15.811358",
     "exception": false,
     "start_time": "2024-09-27T01:53:15.638661",
     "status": "completed"
    },
    "tags": []
   },
   "outputs": [
    {
     "data": {
      "text/plain": [
       "array([False, False, False, ..., False, False, False])"
      ]
     },
     "execution_count": 11,
     "metadata": {},
     "output_type": "execute_result"
    }
   ],
   "source": [
    "rf_test_pred_mobilenet == labels['50%'][2]"
   ]
  },
  {
   "cell_type": "code",
   "execution_count": 12,
   "id": "26f1454a",
   "metadata": {
    "execution": {
     "iopub.execute_input": "2024-09-27T01:53:16.121664Z",
     "iopub.status.busy": "2024-09-27T01:53:16.121145Z",
     "iopub.status.idle": "2024-09-27T01:53:16.135582Z",
     "shell.execute_reply": "2024-09-27T01:53:16.134114Z"
    },
    "papermill": {
     "duration": 0.172213,
     "end_time": "2024-09-27T01:53:16.138311",
     "exception": false,
     "start_time": "2024-09-27T01:53:15.966098",
     "status": "completed"
    },
    "tags": []
   },
   "outputs": [
    {
     "name": "stdout",
     "output_type": "stream",
     "text": [
      "----------------------------------------------------------\n",
      "MobileNetV2-RandomForest Test Accuracy on 1% data: 18.5\n",
      "MobileNetV2-KNN Test Accuracy on 1% data: 17.325\n",
      "----------------------------------------------------------\n",
      "----------------------------------------------------------\n",
      "MobileNetV2-RandomForest Test Accuracy on 10% data: 17.62940735183796\n",
      "MobileNetV2-KNN Test Accuracy on 10% data: 15.153788447111777\n",
      "----------------------------------------------------------\n",
      "----------------------------------------------------------\n",
      "MobileNetV2-RandomForest Test Accuracy on 50% data: 19.85\n",
      "MobileNetV2-KNN Test Accuracy on 50% data: 15.725\n",
      "----------------------------------------------------------\n"
     ]
    }
   ],
   "source": [
    "for i in keys:\n",
    "    print(\"----------------------------------------------------------\")\n",
    "    print(f\"MobileNetV2-RandomForest Test Accuracy on {i} data:\", accuracy_score(labels[i][2], preds[i][0])*100)\n",
    "    print(f\"MobileNetV2-KNN Test Accuracy on {i} data:\", accuracy_score(labels[i][2], preds[i][1])*100)\n",
    "#     print(f\"MobileNetV2-SVM Validation Accuracy on {i} data:\", accuracy_score(labels[i][1], preds[i][2]))\n",
    "    print(\"----------------------------------------------------------\")\n",
    "\n",
    "# # Compare size of ResNet50 and MobileNetV2\n",
    "# resnet50_model_size = base_model.count_params()\n",
    "# mobilenet_model_size = base_model_mobilenet.count_params()\n",
    "\n",
    "# print(f\"ResNet50 Model Size: {resnet50_model_size} parameters\")\n",
    "# print(f\"MobileNetV2 Model Size: {mobilenet_model_size} parameters\")"
   ]
  },
  {
   "cell_type": "code",
   "execution_count": 13,
   "id": "17e726b7",
   "metadata": {
    "execution": {
     "iopub.execute_input": "2024-09-27T01:53:16.435595Z",
     "iopub.status.busy": "2024-09-27T01:53:16.434413Z",
     "iopub.status.idle": "2024-09-27T01:53:17.205563Z",
     "shell.execute_reply": "2024-09-27T01:53:17.203922Z"
    },
    "papermill": {
     "duration": 0.92348,
     "end_time": "2024-09-27T01:53:17.209354",
     "exception": false,
     "start_time": "2024-09-27T01:53:16.285874",
     "status": "completed"
    },
    "tags": []
   },
   "outputs": [
    {
     "data": {
      "image/png": "[encoded data removed]",
      "text/plain": [
       "<Figure size 800x100 with 1 Axes>"
      ]
     },
     "metadata": {},
     "output_type": "display_data"
    },
    {
     "data": {
      "image/png": "[encoded data removed]",
      "text/plain": [
       "<Figure size 800x100 with 1 Axes>"
      ]
     },
     "metadata": {},
     "output_type": "display_data"
    },
    {
     "data": {
      "image/png": "[encoded data removed]",
      "text/plain": [
       "<Figure size 800x100 with 1 Axes>"
      ]
     },
     "metadata": {},
     "output_type": "display_data"
    }
   ],
   "source": [
    "import pandas as pd\n",
    "import matplotlib.pyplot as plt\n",
    "\n",
    "for i in keys:\n",
    "    data = {\n",
    "        'Data Split': [f'{i}', f'{i}'],\n",
    "#         'Classifier': ['MNet-RandomForest', 'MNet-KNN', 'MNet-SVM'],\n",
    "        'Classifier': ['MNet-RandomForest', 'MNet-KNN'],\n",
    "        'Test Acc (%)': [round(accuracy_score(labels[i][2], preds[i][0])*100, 2),\n",
    "                         round(accuracy_score(labels[i][2], preds[i][1])*100, 2)]\n",
    "    }\n",
    "#                          round(accuracy_score(labels[i][1], preds[i][2])*100, 2)]\n",
    "\n",
    "    df = pd.DataFrame(data)\n",
    "    fig, ax = plt.subplots(figsize=(8, 1))\n",
    "    ax.axis('tight')\n",
    "    ax.axis('off')\n",
    "    tbl = ax.table(cellText=df.values, colLabels=df.columns, cellLoc='center', loc='center')\n",
    "    tbl.auto_set_font_size(False)\n",
    "    tbl.set_fontsize(10)\n",
    "    tbl.scale(1.2, 1.2) \n",
    "    plt.title(f'MobileNetV2 Hybrid Model Comparison Table for {i} data', pad=20)\n",
    "    plt.show()"
   ]
  },
  {
   "cell_type": "code",
   "execution_count": 14,
   "id": "f9d9e1c2",
   "metadata": {
    "execution": {
     "iopub.execute_input": "2024-09-27T01:53:17.775230Z",
     "iopub.status.busy": "2024-09-27T01:53:17.774782Z",
     "iopub.status.idle": "2024-09-27T01:53:17.786961Z",
     "shell.execute_reply": "2024-09-27T01:53:17.785713Z"
    },
    "papermill": {
     "duration": 0.166438,
     "end_time": "2024-09-27T01:53:17.789615",
     "exception": false,
     "start_time": "2024-09-27T01:53:17.623177",
     "status": "completed"
    },
    "tags": []
   },
   "outputs": [
    {
     "name": "stdout",
     "output_type": "stream",
     "text": [
      "MobileNetV2 Model Size: 2257984 parameters\n"
     ]
    }
   ],
   "source": [
    "mobilenet_model_size = base_model_mobilenet.count_params()\n",
    "print(f\"MobileNetV2 Model Size: {mobilenet_model_size} parameters\")"
   ]
  },
  {
   "cell_type": "code",
   "execution_count": null,
   "id": "b460391f",
   "metadata": {
    "papermill": {
     "duration": 0.146323,
     "end_time": "2024-09-27T01:53:18.083772",
     "exception": false,
     "start_time": "2024-09-27T01:53:17.937449",
     "status": "completed"
    },
    "tags": []
   },
   "outputs": [],
   "source": []
  }
 ],
 "metadata": {
  "kaggle": {
   "accelerator": "none",
   "dataSources": [
    {
     "datasetId": 5622519,
     "sourceId": 9287937,
     "sourceType": "datasetVersion"
    }
   ],
   "dockerImageVersionId": 30761,
   "isGpuEnabled": false,
   "isInternetEnabled": true,
   "language": "python",
   "sourceType": "notebook"
  },
  "kernelspec": {
   "display_name": "Python 3",
   "language": "python",
   "name": "python3"
  },
  "language_info": {
   "codemirror_mode": {
    "name": "ipython",
    "version": 3
   },
   "file_extension": ".py",
   "mimetype": "text/x-python",
   "name": "python",
   "nbconvert_exporter": "python",
   "pygments_lexer": "ipython3",
   "version": "3.10.14"
  },
  "papermill": {
   "default_parameters": {},
   "duration": 5248.534219,
   "end_time": "2024-09-27T01:53:21.616561",
   "environment_variables": {},
   "exception": null,
   "input_path": "__notebook__.ipynb",
   "output_path": "__notebook__.ipynb",
   "parameters": {},
   "start_time": "2024-09-27T00:25:53.082342",
   "version": "2.6.0"
  }
 },
 "nbformat": 4,
 "nbformat_minor": 5
}
