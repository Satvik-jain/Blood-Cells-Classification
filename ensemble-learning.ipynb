{
 "cells": [
  {
   "cell_type": "code",
   "execution_count": 1,
   "id": "782c2ab6",
   "metadata": {
    "execution": {
     "iopub.execute_input": "2024-09-13T13:28:01.936457Z",
     "iopub.status.busy": "2024-09-13T13:28:01.936106Z",
     "iopub.status.idle": "2024-09-13T13:28:16.913939Z",
     "shell.execute_reply": "2024-09-13T13:28:16.913167Z"
    },
    "papermill": {
     "duration": 14.984697,
     "end_time": "2024-09-13T13:28:16.916135",
     "exception": false,
     "start_time": "2024-09-13T13:28:01.931438",
     "status": "completed"
    },
    "tags": []
   },
   "outputs": [],
   "source": [
    "import tensorflow as tf\n",
    "from tensorflow.keras.applications import ResNet50\n",
    "from tensorflow.keras.preprocessing.image import ImageDataGenerator\n",
    "from tensorflow.keras.layers import Dense, GlobalAveragePooling2D, Flatten\n",
    "from tensorflow.keras.models import Model\n",
    "from tensorflow.keras.optimizers import Adam\n",
    "from sklearn.model_selection import train_test_split, KFold\n",
    "from sklearn.svm import SVC\n",
    "from sklearn.metrics import accuracy_score, precision_score, recall_score, f1_score\n",
    "from sklearn.preprocessing import StandardScaler\n",
    "import numpy as np\n",
    "import os\n",
    "from tensorflow.keras.callbacks import LearningRateScheduler, ModelCheckpoint\n",
    "import tensorflow as tf\n",
    "from tensorflow.keras.applications import ResNet50\n",
    "from tensorflow.keras.preprocessing.image import ImageDataGenerator\n",
    "from tensorflow.keras.applications.resnet50 import preprocess_input\n",
    "from sklearn.model_selection import train_test_split, GridSearchCV\n",
    "from sklearn.neighbors import KNeighborsClassifier\n",
    "from sklearn.ensemble import RandomForestClassifier\n",
    "from sklearn.svm import SVC\n",
    "from xgboost import XGBClassifier\n",
    "from sklearn.metrics import accuracy_score"
   ]
  },
  {
   "cell_type": "code",
   "execution_count": 2,
   "id": "2767399d",
   "metadata": {
    "execution": {
     "iopub.execute_input": "2024-09-13T13:28:16.923621Z",
     "iopub.status.busy": "2024-09-13T13:28:16.923088Z",
     "iopub.status.idle": "2024-09-13T13:29:25.983384Z",
     "shell.execute_reply": "2024-09-13T13:29:25.982478Z"
    },
    "papermill": {
     "duration": 69.068879,
     "end_time": "2024-09-13T13:29:25.988113",
     "exception": false,
     "start_time": "2024-09-13T13:28:16.919234",
     "status": "completed"
    },
    "tags": []
   },
   "outputs": [
    {
     "name": "stdout",
     "output_type": "stream",
     "text": [
      "Data successfully split into train (1%), val, and test (4000 images) folders with seed 42\n"
     ]
    }
   ],
   "source": [
    "import os\n",
    "import shutil\n",
    "import random\n",
    "from sklearn.model_selection import train_test_split\n",
    "\n",
    "\n",
    "random_seed = 42\n",
    "random.seed(random_seed)\n",
    "\n",
    "\n",
    "source_folder = '/kaggle/input/microscopic-peripheral-blood-cell-images/PBC_dataset_normal_DIB'\n",
    "destination_folder = 'data'\n",
    "train_ratio = 0.01 \n",
    "test_size = 4000   \n",
    "\n",
    "os.makedirs(os.path.join(destination_folder, 'train'), exist_ok=True)\n",
    "os.makedirs(os.path.join(destination_folder, 'val'), exist_ok=True)\n",
    "os.makedirs(os.path.join(destination_folder, 'test'), exist_ok=True)\n",
    "\n",
    "total_images = []\n",
    "class_images = {}\n",
    "\n",
    "for class_name in os.listdir(source_folder):\n",
    "    class_folder = os.path.join(source_folder, class_name)\n",
    "    \n",
    "    if os.path.isdir(class_folder):\n",
    "        images = os.listdir(class_folder)\n",
    "        total_images.extend([(class_name, img) for img in images])\n",
    "        class_images[class_name] = images\n",
    "\n",
    "random.shuffle(total_images)\n",
    "\n",
    "train_count = max(1, int(len(total_images) * train_ratio))\n",
    "train_images = total_images[:train_count]\n",
    "remaining_images = total_images[train_count:]\n",
    "\n",
    "test_images = remaining_images[:test_size]\n",
    "val_images = remaining_images[test_size:]\n",
    "\n",
    "train_class_images = {class_name: [] for class_name in class_images.keys()}\n",
    "test_class_images = {class_name: [] for class_name in class_images.keys()}\n",
    "val_class_images = {class_name: [] for class_name in class_images.keys()}\n",
    "\n",
    "for class_name, img in train_images:\n",
    "    train_class_images[class_name].append(img)\n",
    "\n",
    "for class_name, img in test_images:\n",
    "    test_class_images[class_name].append(img)\n",
    "\n",
    "for class_name, img in val_images:\n",
    "    val_class_images[class_name].append(img)\n",
    "\n",
    "for class_name, images in train_class_images.items():\n",
    "    class_folder = os.path.join(source_folder, class_name)\n",
    "    train_dest = os.path.join(destination_folder, 'train', class_name)\n",
    "    os.makedirs(train_dest, exist_ok=True)\n",
    "    for img in images:\n",
    "        shutil.copy(os.path.join(class_folder, img), os.path.join(train_dest, img))\n",
    "\n",
    "for class_name, images in val_class_images.items():\n",
    "    class_folder = os.path.join(source_folder, class_name)\n",
    "    val_dest = os.path.join(destination_folder, 'val', class_name)\n",
    "    os.makedirs(val_dest, exist_ok=True)\n",
    "    for img in images:\n",
    "        shutil.copy(os.path.join(class_folder, img), os.path.join(val_dest, img))\n",
    "\n",
    "for class_name, images in test_class_images.items():\n",
    "    class_folder = os.path.join(source_folder, class_name)\n",
    "    test_dest = os.path.join(destination_folder, 'test', class_name)\n",
    "    os.makedirs(test_dest, exist_ok=True)\n",
    "    for img in images:\n",
    "        shutil.copy(os.path.join(class_folder, img), os.path.join(test_dest, img))\n",
    "\n",
    "print(\"Data successfully split into train (1%), val, and test (4000 images) folders with seed\", random_seed)"
   ]
  },
  {
   "cell_type": "code",
   "execution_count": 3,
   "id": "eb20d866",
   "metadata": {
    "execution": {
     "iopub.execute_input": "2024-09-13T13:29:25.995081Z",
     "iopub.status.busy": "2024-09-13T13:29:25.994378Z",
     "iopub.status.idle": "2024-09-13T13:29:26.022657Z",
     "shell.execute_reply": "2024-09-13T13:29:26.021818Z"
    },
    "papermill": {
     "duration": 0.033639,
     "end_time": "2024-09-13T13:29:26.024457",
     "exception": false,
     "start_time": "2024-09-13T13:29:25.990818",
     "status": "completed"
    },
    "tags": []
   },
   "outputs": [
    {
     "name": "stdout",
     "output_type": "stream",
     "text": [
      "Removing invalid file: .DS_169665.jpg\n"
     ]
    }
   ],
   "source": [
    "import os\n",
    "\n",
    "def filter_invalid_files(directory):\n",
    "    for subdir, dirs, files in os.walk(directory):\n",
    "        for file in files:\n",
    "            if file.startswith('.'):\n",
    "                print(f\"Removing invalid file: {file}\")\n",
    "                os.remove(os.path.join(subdir, file))\n",
    "\n",
    "filter_invalid_files('/kaggle/working/data/train')\n",
    "filter_invalid_files('/kaggle/working/data/test')\n",
    "filter_invalid_files('/kaggle/working/data/val')"
   ]
  },
  {
   "cell_type": "code",
   "execution_count": 4,
   "id": "960ddf03",
   "metadata": {
    "execution": {
     "iopub.execute_input": "2024-09-13T13:29:26.031544Z",
     "iopub.status.busy": "2024-09-13T13:29:26.030810Z",
     "iopub.status.idle": "2024-09-13T13:29:26.596489Z",
     "shell.execute_reply": "2024-09-13T13:29:26.595769Z"
    },
    "papermill": {
     "duration": 0.571286,
     "end_time": "2024-09-13T13:29:26.598537",
     "exception": false,
     "start_time": "2024-09-13T13:29:26.027251",
     "status": "completed"
    },
    "tags": []
   },
   "outputs": [
    {
     "name": "stdout",
     "output_type": "stream",
     "text": [
      "Found 170 images belonging to 8 classes.\n",
      "Found 12922 images belonging to 8 classes.\n",
      "Found 4000 images belonging to 8 classes.\n"
     ]
    }
   ],
   "source": [
    "train_dir = '/kaggle/working/data/train'\n",
    "val_dir = '/kaggle/working/data/val'\n",
    "test_dir = '/kaggle/working/data/test'\n",
    "\n",
    "\n",
    "img_height, img_width = 224, 224\n",
    "batch_size = 32\n",
    "\n",
    "\n",
    "train_datagen = ImageDataGenerator(\n",
    "    rescale=1./255,\n",
    "    zoom_range=0.2,\n",
    "    horizontal_flip=True\n",
    ")\n",
    "\n",
    "val_datagen = ImageDataGenerator(rescale=1./255)\n",
    "test_datagen = ImageDataGenerator(rescale=1./255)\n",
    "\n",
    "train_generator = train_datagen.flow_from_directory(\n",
    "    train_dir,\n",
    "    target_size=(img_height, img_width),\n",
    "    batch_size=batch_size,\n",
    "    class_mode='categorical'\n",
    ")\n",
    "\n",
    "val_generator = val_datagen.flow_from_directory(\n",
    "    val_dir,\n",
    "    target_size=(img_height, img_width),\n",
    "    batch_size=batch_size,\n",
    "    class_mode='categorical'\n",
    ")\n",
    "\n",
    "test_generator = test_datagen.flow_from_directory(\n",
    "    test_dir,\n",
    "    target_size=(img_height, img_width),\n",
    "    batch_size=batch_size,\n",
    "    class_mode='categorical'\n",
    ")\n"
   ]
  },
  {
   "cell_type": "code",
   "execution_count": 5,
   "id": "d6209463",
   "metadata": {
    "execution": {
     "iopub.execute_input": "2024-09-13T13:29:26.605982Z",
     "iopub.status.busy": "2024-09-13T13:29:26.605642Z",
     "iopub.status.idle": "2024-09-13T13:30:22.488500Z",
     "shell.execute_reply": "2024-09-13T13:30:22.487476Z"
    },
    "papermill": {
     "duration": 55.889206,
     "end_time": "2024-09-13T13:30:22.490868",
     "exception": false,
     "start_time": "2024-09-13T13:29:26.601662",
     "status": "completed"
    },
    "tags": []
   },
   "outputs": [
    {
     "name": "stdout",
     "output_type": "stream",
     "text": [
      "Downloading data from https://storage.googleapis.com/tensorflow/keras-applications/mobilenet_v2/mobilenet_v2_weights_tf_dim_ordering_tf_kernels_1.0_224_no_top.h5\n",
      "\u001b[1m9406464/9406464\u001b[0m \u001b[32m━━━━━━━━━━━━━━━━━━━━\u001b[0m\u001b[37m\u001b[0m \u001b[1m0s\u001b[0m 0us/step\n"
     ]
    },
    {
     "name": "stderr",
     "output_type": "stream",
     "text": [
      "/opt/conda/lib/python3.10/site-packages/keras/src/trainers/data_adapters/py_dataset_adapter.py:121: UserWarning: Your `PyDataset` class should call `super().__init__(**kwargs)` in its constructor. `**kwargs` can include `workers`, `use_multiprocessing`, `max_queue_size`. Do not pass these arguments to `fit()`, as they will be ignored.\n",
      "  self._warn_if_super_not_called()\n",
      "WARNING: All log messages before absl::InitializeLog() is called are written to STDERR\n",
      "I0000 00:00:1726234171.318574      90 service.cc:145] XLA service 0x7a2f80003590 initialized for platform CUDA (this does not guarantee that XLA will be used). Devices:\n",
      "I0000 00:00:1726234171.318627      90 service.cc:153]   StreamExecutor device (0): Tesla T4, Compute Capability 7.5\n",
      "I0000 00:00:1726234171.318633      90 service.cc:153]   StreamExecutor device (1): Tesla T4, Compute Capability 7.5\n"
     ]
    },
    {
     "name": "stdout",
     "output_type": "stream",
     "text": [
      "\u001b[1m1/6\u001b[0m \u001b[32m━━━\u001b[0m\u001b[37m━━━━━━━━━━━━━━━━━\u001b[0m \u001b[1m34s\u001b[0m 7s/step"
     ]
    },
    {
     "name": "stderr",
     "output_type": "stream",
     "text": [
      "I0000 00:00:1726234176.607150      90 device_compiler.h:188] Compiled cluster using XLA!  This line is logged at most once for the lifetime of the process.\n"
     ]
    },
    {
     "name": "stdout",
     "output_type": "stream",
     "text": [
      "\u001b[1m6/6\u001b[0m \u001b[32m━━━━━━━━━━━━━━━━━━━━\u001b[0m\u001b[37m\u001b[0m \u001b[1m12s\u001b[0m 1s/step\n",
      "\u001b[1m404/404\u001b[0m \u001b[32m━━━━━━━━━━━━━━━━━━━━\u001b[0m\u001b[37m\u001b[0m \u001b[1m28s\u001b[0m 69ms/step\n",
      "\u001b[1m125/125\u001b[0m \u001b[32m━━━━━━━━━━━━━━━━━━━━\u001b[0m\u001b[37m\u001b[0m \u001b[1m7s\u001b[0m 57ms/step\n"
     ]
    }
   ],
   "source": [
    "from tensorflow.keras.applications import MobileNetV2\n",
    "\n",
    "base_model = MobileNetV2(weights='imagenet', include_top=False, input_shape=(224, 224, 3))\n",
    "\n",
    "def extract_features(generator, base_model):\n",
    "    features = base_model.predict(generator)\n",
    "    labels = generator.classes\n",
    "    return features, labels\n",
    "\n",
    "train_features, train_labels = extract_features(train_generator, base_model)\n",
    "val_features, val_labels = extract_features(val_generator, base_model)\n",
    "test_features, test_labels = extract_features(test_generator, base_model)\n",
    "\n",
    "# Flatten the features for traditional classifiers\n",
    "train_features = train_features.reshape(train_features.shape[0], -1)\n",
    "val_features = val_features.reshape(val_features.shape[0], -1)\n",
    "test_features = test_features.reshape(test_features.shape[0], -1)"
   ]
  },
  {
   "cell_type": "code",
   "execution_count": 6,
   "id": "d4d95d3d",
   "metadata": {
    "_cell_guid": "b1076dfc-b9ad-4769-8c92-a6c4dae69d19",
    "_uuid": "8f2839f25d086af736a60e9eeb907d3b93b6e0e5",
    "execution": {
     "iopub.execute_input": "2024-09-13T13:30:22.576648Z",
     "iopub.status.busy": "2024-09-13T13:30:22.575809Z",
     "iopub.status.idle": "2024-09-13T13:32:08.115308Z",
     "shell.execute_reply": "2024-09-13T13:32:08.102600Z"
    },
    "papermill": {
     "duration": 105.668594,
     "end_time": "2024-09-13T13:32:08.201928",
     "exception": false,
     "start_time": "2024-09-13T13:30:22.533334",
     "status": "completed"
    },
    "tags": []
   },
   "outputs": [
    {
     "name": "stdout",
     "output_type": "stream",
     "text": [
      "Test Accuracy: 0.1810\n",
      "              precision    recall  f1-score   support\n",
      "\n",
      "           0       0.00      0.00      0.00       271\n",
      "           1       0.17      0.21      0.19       732\n",
      "           2       0.00      0.00      0.00       363\n",
      "           3       0.17      0.17      0.17       691\n",
      "           4       0.00      0.00      0.00       266\n",
      "           5       0.00      0.00      0.00       350\n",
      "           6       0.19      0.59      0.29       757\n",
      "           7       0.00      0.00      0.00       570\n",
      "\n",
      "    accuracy                           0.18      4000\n",
      "   macro avg       0.07      0.12      0.08      4000\n",
      "weighted avg       0.10      0.18      0.12      4000\n",
      "\n"
     ]
    },
    {
     "name": "stderr",
     "output_type": "stream",
     "text": [
      "/opt/conda/lib/python3.10/site-packages/sklearn/metrics/_classification.py:1344: UndefinedMetricWarning: Precision and F-score are ill-defined and being set to 0.0 in labels with no predicted samples. Use `zero_division` parameter to control this behavior.\n",
      "  _warn_prf(average, modifier, msg_start, len(result))\n",
      "/opt/conda/lib/python3.10/site-packages/sklearn/metrics/_classification.py:1344: UndefinedMetricWarning: Precision and F-score are ill-defined and being set to 0.0 in labels with no predicted samples. Use `zero_division` parameter to control this behavior.\n",
      "  _warn_prf(average, modifier, msg_start, len(result))\n",
      "/opt/conda/lib/python3.10/site-packages/sklearn/metrics/_classification.py:1344: UndefinedMetricWarning: Precision and F-score are ill-defined and being set to 0.0 in labels with no predicted samples. Use `zero_division` parameter to control this behavior.\n",
      "  _warn_prf(average, modifier, msg_start, len(result))\n"
     ]
    }
   ],
   "source": [
    "from sklearn.ensemble import StackingClassifier\n",
    "from sklearn.linear_model import LogisticRegression\n",
    "from sklearn.svm import SVC\n",
    "from sklearn.neighbors import KNeighborsClassifier\n",
    "from sklearn.ensemble import RandomForestClassifier\n",
    "from sklearn.model_selection import train_test_split\n",
    "from sklearn.metrics import accuracy_score, classification_report\n",
    "\n",
    "base_learners = [\n",
    "    ('svm', SVC(probability=True)),\n",
    "    ('knn', KNeighborsClassifier()),\n",
    "    ('rf', RandomForestClassifier()),\n",
    "#     ('xgboost', XGBClassifier(eval_metric='mlogloss', use_label_encoder=False))\n",
    "]\n",
    "\n",
    "\n",
    "stack_model = StackingClassifier(\n",
    "    estimators=base_learners, \n",
    "    final_estimator=LogisticRegression()\n",
    ")\n",
    "\n",
    "stack_model.fit(train_features, train_labels)\n",
    "\n",
    "test_predictions = stack_model.predict(test_features)\n",
    "test_accuracy = accuracy_score(test_labels, test_predictions)\n",
    "\n",
    "print(f\"Test Accuracy: {test_accuracy:.4f}\")\n",
    "print(classification_report(test_labels, test_predictions))\n"
   ]
  }
 ],
 "metadata": {
  "kaggle": {
   "accelerator": "nvidiaTeslaT4",
   "dataSources": [
    {
     "datasetId": 5622519,
     "sourceId": 9287937,
     "sourceType": "datasetVersion"
    }
   ],
   "dockerImageVersionId": 30762,
   "isGpuEnabled": true,
   "isInternetEnabled": true,
   "language": "python",
   "sourceType": "notebook"
  },
  "kernelspec": {
   "display_name": "Python 3",
   "language": "python",
   "name": "python3"
  },
  "language_info": {
   "codemirror_mode": {
    "name": "ipython",
    "version": 3
   },
   "file_extension": ".py",
   "mimetype": "text/x-python",
   "name": "python",
   "nbconvert_exporter": "python",
   "pygments_lexer": "ipython3",
   "version": "3.10.14"
  },
  "papermill": {
   "default_parameters": {},
   "duration": 251.871742,
   "end_time": "2024-09-13T13:32:10.945466",
   "environment_variables": {},
   "exception": null,
   "input_path": "__notebook__.ipynb",
   "output_path": "__notebook__.ipynb",
   "parameters": {},
   "start_time": "2024-09-13T13:27:59.073724",
   "version": "2.6.0"
  }
 },
 "nbformat": 4,
 "nbformat_minor": 5
}
